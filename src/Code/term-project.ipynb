{
 "cells": [
  {
   "cell_type": "code",
   "execution_count": 123,
   "metadata": {},
   "outputs": [],
   "source": [
    "# Import statements\n",
    "import numpy as np\n",
    "import pandas as pd\n",
    "from sklearn.model_selection import KFold\n",
    "from sklearn.naive_bayes import GaussianNB\n",
    "from sklearn.naive_bayes import MultinomialNB\n",
    "from sklearn.preprocessing import OneHotEncoder\n",
    "from sklearn.tree import DecisionTreeClassifier\n",
    "from sklearn.metrics import precision_recall_fscore_support\n",
    "from sklearn.feature_extraction.text import TfidfVectorizer\n",
    "from sklearn.metrics import f1_score, precision_score, recall_score, accuracy_score\n",
    "from sklearn.feature_extraction.text import CountVectorizer\n",
    "import os\n",
    "import nltk\n",
    "from nltk.stem import WordNetLemmatizer\n",
    "import re\n",
    "from sklearn.svm import SVC\n",
    "from sklearn.linear_model import LogisticRegression #Max entropy"
   ]
  },
  {
   "cell_type": "code",
   "execution_count": 124,
   "metadata": {},
   "outputs": [],
   "source": [
    "negpath = \"../Data/review_polarity/txt_sentoken/neg\"\n",
    "pospath = \"../Data/review_polarity/txt_sentoken/pos\"\n",
    "#function to read all negative and positive lines into separate lists\n",
    "def read_file(path):\n",
    "    listlines = []\n",
    "    #Read all files from given folder path\n",
    "    for file in os.listdir(path):\n",
    "        currfile=path+\"/\"+file\n",
    "        f = open(currfile, \"r\")\n",
    "        lines = f.read() #switched from readlines() to read the entire review\n",
    "        listlines.append(lines)\n",
    "    return listlines\n",
    "old_neglines=[]\n",
    "old_poslines=[]\n",
    "old_neglines = read_file(negpath)\n",
    "old_poslines = read_file(pospath)\n",
    "#print(old_neglines[0])"
   ]
  },
  {
   "cell_type": "code",
   "execution_count": 125,
   "metadata": {},
   "outputs": [],
   "source": [
    "#Preprocessing: lowercase and words only (remove punctuation, numbers)\n",
    "from nltk.corpus import stopwords\n",
    "#stopwords minus negation\n",
    "stop_words = set(stopwords.words(\"english\"))-set([\"couldn't\",\"wouldn\",\"haven't\",\"haven\",\"aren\",\"aren't\",\"isn\",\"isn't\",\"ain\",\"wouldn't\",\"didn\",\"didn't\",\"doesn\",\"doesn't\",\"wasn't\",\"don\",\"don't\",\"couldn\",\"shouldn\",\"shouldn't\",\"hasn\",\"hasn't\",\"hadn\",\"hadn't\",\"not\",\"won\",\"won't\",])\n",
    "neg_words = \"never|nothing|nowhere|none|havent|hasnt|hadnt|cant|couldnt|shouldnt|wont|wouldnt|dont|doesnt|didnt|isnt|arent|aint|no$|not$\"\n",
    "\n",
    "def preprocess(listlines):\n",
    "    processed = []\n",
    "    for line in listlines:\n",
    "        #reviews appear to already be in lowercase, but ensure that's the case:\n",
    "        newline = line.lower()\n",
    "        newline = newline.split()\n",
    "        #remove stopwords\n",
    "        newline = [word for word in newline if not word in stop_words]\n",
    "        newline = ' '.join(newline)\n",
    "        #remove non-alphabet characters, keeping underscore.\n",
    "        newline = re.sub(r\"[^a-zA-z\\s_]\",'',newline)\n",
    "        #print(newline)\n",
    "        processed.append(newline)\n",
    "    return processed\n",
    "neglines = preprocess(old_neglines)\n",
    "poslines = preprocess(old_poslines)"
   ]
  },
  {
   "cell_type": "code",
   "execution_count": 126,
   "metadata": {},
   "outputs": [
    {
     "name": "stdout",
     "output_type": "stream",
     "text": [
      "plot  two teen couples go church party  drink drive  get accident  one guys dies  girlfriend continues see life  nightmares  whats deal  watch movie  sorta  find    critique  mindfuck movie teen generation touches cool idea  presents bad package  makes review even harder one write  since generally applaud films attempt break mold  mess head  lost highway  memento   good bad ways making types films  folks didnt snag one correctly  seem taken pretty neat concept  executed terribly  problems movie  well  main problem simply jumbled  starts  normal  downshifts  fantasy  world  audience member  idea whats going  dreams  characters coming back dead  others look like dead  strange apparitions  disappearances  looooot chase scenes  tons weird things happen  simply not explained  personally dont mind trying unravel film every  give clue  get kind fed  films biggest problem  obviously got big secret hide  seems want hide completely final five minutes  make things entertaining  thrilling even engaging  meantime  not really  sad part arrow dig flicks like  actually figured halfway point  strangeness start make little bit sense  still didnt make film entertaining  guess bottom line movies like always make sure audience   even given secret password enter world understanding  mean  showing melissa sagemiller running away visions  minutes throughout movie plain lazy   okay  get    people chasing dont know  really need see  giving us different scenes offering insight strangeness going movie  apparently  studio took film away director chopped  shows  mightve pretty decent teen mindfuck movie somewhere  guess  suits  decided turning music video little edge  would make sense  actors pretty good part  although wes bentley seemed playing exact character american beauty  new neighborhood  biggest kudos go sagemiller  holds throughout entire film  actually feeling characters unraveling  overall  film doesnt stick doesnt entertain  confusing  rarely excites feels pretty redundant runtime  despite pretty cool ending explanation craziness came  oh  way  not horror teen slasher flick    packaged look way someone apparently assuming genre still hot kids  also wrapped production two years ago sitting shelves ever since  whatever    skip  wheres joblo coming  nightmare elm street      blair witch      crow     crow  salvation     lost highway     memento     others     stir echoes   \n"
     ]
    }
   ],
   "source": [
    "print(neglines[0])"
   ]
  },
  {
   "cell_type": "code",
   "execution_count": 127,
   "metadata": {},
   "outputs": [],
   "source": [
    "#label each line with \"positive\" or \"negative\"\n",
    "def labellines(listlines, sentiment):\n",
    "    labeled = []\n",
    "    for line in listlines:\n",
    "        curr_line = []\n",
    "        curr_line.append(line)\n",
    "        curr_line.append(sentiment)\n",
    "        labeled.append(curr_line)\n",
    "    return labeled\n",
    "#Label negative review \"Negative\" and positive reviews \"Positive\"\n",
    "neglabeled=labellines(neglines,\"Negative\")\n",
    "poslabeled=labellines(poslines,\"Positive\")\n",
    "#Combine all reviews\n",
    "lines = neglabeled+poslabeled"
   ]
  },
  {
   "cell_type": "code",
   "execution_count": 128,
   "metadata": {},
   "outputs": [
    {
     "name": "stdout",
     "output_type": "stream",
     "text": [
      "                                                word sentiment\n",
      "0  plot  two teen couples go church party  drink ...  Negative\n",
      "1  happy bastards quick movie review damn yk bug ...  Negative\n",
      "2  movies like make jaded movie viewer thankful i...  Negative\n",
      "3   quest camelot  warner bros   first featurelen...  Negative\n",
      "4  synopsis  mentally unstable man undergoing psy...  Negative\n",
      "5  capsule   planet mars police taking custody ac...  Negative\n",
      "6  ask  mm    eight millimeter   really  wholesom...  Negative\n",
      "7  thats exactly long movie felt  even nine laugh...  Negative\n",
      "8  call road trip walking wounded  stellan skarsg...  Negative\n",
      "9  plot  young french boy sees parents killed eye...  Negative\n"
     ]
    }
   ],
   "source": [
    "df = pd.DataFrame(lines, columns=[\"word\",\"sentiment\"])\n",
    "print(df.head(10))"
   ]
  },
  {
   "cell_type": "code",
   "execution_count": 129,
   "metadata": {},
   "outputs": [],
   "source": [
    "labels = df[\"sentiment\"]\n",
    "data = df.drop(columns=[\"sentiment\"])\n",
    "X = data[\"word\"]"
   ]
  },
  {
   "cell_type": "code",
   "execution_count": 130,
   "metadata": {},
   "outputs": [],
   "source": [
    "#From demo:\n",
    "# Define a function to take as input training and testing vectors and labels\n",
    "# Allow this to be extensible to let multiple classifiers be used here\n",
    "def buildClassifiers(clf, X_train, X_test, y_train, y_test):\n",
    "\n",
    "    clf.fit(X_train, y_train)\n",
    "    y_pred = clf.predict(X_test)\n",
    "\n",
    "    # if you get a zero-devision warning message, you can supress it by setting zero_division=0\n",
    "    f1 = f1_score(y_test, y_pred, average=\"macro\", zero_division=0)\n",
    "    precision = precision_score(y_test, y_pred, average=\"macro\", zero_division=0)\n",
    "    recall = recall_score(y_test, y_pred, average=\"macro\", zero_division=0)\n",
    "    accuracy = accuracy_score(y_test, y_pred)\n",
    "    return f1, precision, recall, accuracy"
   ]
  },
  {
   "cell_type": "code",
   "execution_count": 131,
   "metadata": {},
   "outputs": [
    {
     "name": "stdout",
     "output_type": "stream",
     "text": [
      "Average F1 for Naive_Bayes:\t\t 0.813587081877839\n",
      "Average Precision for Naive_Bayes:\t 0.8135985271703335\n",
      "Average Recall for Naive_Bayes:\t 0.813933679628291\n",
      "Average Accuracy for Naive_Bayes:\t 0.8140000000000001\n",
      "Average F1 for Decision_Tree:\t\t 0.6212577546193891\n",
      "Average Precision for Decision_Tree:\t 0.6214052795812168\n",
      "Average Recall for Decision_Tree:\t 0.6215279851946158\n",
      "Average Accuracy for Decision_Tree:\t 0.6220000000000001\n",
      "Average F1 for Max_Entropy:\t\t 0.8450694935554829\n",
      "Average Precision for Max_Entropy:\t 0.8457648381576334\n",
      "Average Recall for Max_Entropy:\t 0.8453949096594234\n",
      "Average Accuracy for Max_Entropy:\t 0.8454999999999998\n"
     ]
    }
   ],
   "source": [
    "#From demo:\n",
    "# Construct the classifiers at hand prior to folding the data through them\n",
    "names = ['Naive_Bayes', 'Decision_Tree','Max_Entropy']#,'Support_Vector_Machines']\n",
    "classifiers = [MultinomialNB(), \n",
    "              DecisionTreeClassifier(random_state=0, criterion='gini'), LogisticRegression(random_state=0,max_iter=1000)]#, SVC(kernel='linear')]\n",
    "# names = ['Max_Entropy']\n",
    "# classifiers = [LogisticRegression(random_state=0,max_iter=1000)]\n",
    "# Try different classifiers: https://scikit-learn.org/stable/supervised_learning.html#supervised-learning\n",
    "for name, clf in zip(names, classifiers):\n",
    "\n",
    "    #print('Now classifying', name)\n",
    "\n",
    "    # Fold the data 5 times. Shuffle because data is organized into negative then positive\n",
    "    kf = KFold(n_splits = 5, shuffle=True, random_state=0)\n",
    "    foldCounter = 0\n",
    "    aList, bList, cList, dList = list(), list(), list(), list()\n",
    "    for train_index, test_index in kf.split(X):\n",
    "        X_train, X_test = X[train_index], X[test_index]\n",
    "        y_train, y_test = labels[train_index], labels[test_index]\n",
    "        #vectorize here:\n",
    "        vectorizer = CountVectorizer()\n",
    "        X_train_vect = vectorizer.fit_transform(X_train).toarray()\n",
    "        X_test_vect = vectorizer.transform(X_test).toarray()\n",
    "        f1, precision, recall, accuracy = buildClassifiers(clf, X_train_vect, X_test_vect, y_train, y_test)\n",
    "        aList.append(f1)\n",
    "        bList.append(precision)\n",
    "        cList.append(recall)\n",
    "        dList.append(accuracy)\n",
    "    print(\"Average F1 for {}:\\t\\t\".format(name), np.mean(aList))\n",
    "    print(\"Average Precision for {}:\\t\".format(name), np.mean(bList))\n",
    "    print(\"Average Recall for {}:\\t\".format(name), np.mean(cList))\n",
    "    print(\"Average Accuracy for {}:\\t\".format(name), np.mean(dList))"
   ]
  }
 ],
 "metadata": {
  "kernelspec": {
   "display_name": "Python 3",
   "language": "python",
   "name": "python3"
  },
  "language_info": {
   "codemirror_mode": {
    "name": "ipython",
    "version": 3
   },
   "file_extension": ".py",
   "mimetype": "text/x-python",
   "name": "python",
   "nbconvert_exporter": "python",
   "pygments_lexer": "ipython3",
   "version": "3.10.1"
  },
  "orig_nbformat": 4
 },
 "nbformat": 4,
 "nbformat_minor": 2
}
